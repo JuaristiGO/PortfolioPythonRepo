{
 "cells": [
  {
   "cell_type": "markdown",
   "id": "150016a6",
   "metadata": {},
   "source": [
    "# WEB SCRAPING TOP 100 LARGEST COMPANIES IN USA 2023 "
   ]
  },
  {
   "cell_type": "code",
   "execution_count": 1,
   "id": "8aef9f40",
   "metadata": {},
   "outputs": [],
   "source": [
    "# Web Scraping Data of the largest companies in USA by revenue.\n",
    "import pandas as pd\n",
    "from bs4 import BeautifulSoup\n",
    "import requests"
   ]
  },
  {
   "cell_type": "code",
   "execution_count": 2,
   "id": "172d6c13",
   "metadata": {},
   "outputs": [],
   "source": [
    "# Call Wikipedia web page and retrieve raw HTML information as soup.\n",
    "url = 'https://en.wikipedia.org/wiki/List_of_largest_companies_in_the_United_States_by_revenue'\n",
    "response = requests.get(url)\n",
    "soup = BeautifulSoup(response.text, 'html')"
   ]
  },
  {
   "cell_type": "code",
   "execution_count": 3,
   "id": "36bd2176",
   "metadata": {},
   "outputs": [],
   "source": [
    "# Pull the table from the web with the largest companies attributes. \n",
    "# We have three tables in a list; we can index it to take a closer look at the right one and select the class attribute for find().\n",
    "soup.find_all('table')[1]\n",
    "table_html = soup.find('table', class_='wikitable sortable')\n",
    "\n"
   ]
  },
  {
   "cell_type": "code",
   "execution_count": 4,
   "id": "93b74b5d",
   "metadata": {},
   "outputs": [
    {
     "name": "stdout",
     "output_type": "stream",
     "text": [
      "[<th>Rank\n",
      "</th>, <th>Name\n",
      "</th>, <th>Industry\n",
      "</th>, <th>Revenue <br/>(USD millions)\n",
      "</th>, <th>Revenue growth\n",
      "</th>, <th>Employees\n",
      "</th>, <th>Headquarters\n",
      "</th>]\n"
     ]
    }
   ],
   "source": [
    "# Pull the titles of the table \n",
    "titles = table_html.find_all('th')\n",
    "print(titles)"
   ]
  },
  {
   "cell_type": "code",
   "execution_count": 5,
   "id": "133ca09f",
   "metadata": {},
   "outputs": [
    {
     "name": "stdout",
     "output_type": "stream",
     "text": [
      "['Rank', 'Name', 'Industry', 'Revenue (USD millions)', 'Revenue growth', 'Employees', 'Headquarters']\n"
     ]
    }
   ],
   "source": [
    "# Put the titles into a list, using a list comprehension and clean it with .text.strip() using a for loop.\n",
    "table_titles = [i.text.strip() for i in titles]\n",
    "print(table_titles)"
   ]
  },
  {
   "cell_type": "code",
   "execution_count": 6,
   "id": "46600358",
   "metadata": {},
   "outputs": [
    {
     "data": {
      "text/html": [
       "<div>\n",
       "<style scoped>\n",
       "    .dataframe tbody tr th:only-of-type {\n",
       "        vertical-align: middle;\n",
       "    }\n",
       "\n",
       "    .dataframe tbody tr th {\n",
       "        vertical-align: top;\n",
       "    }\n",
       "\n",
       "    .dataframe thead th {\n",
       "        text-align: right;\n",
       "    }\n",
       "</style>\n",
       "<table border=\"1\" class=\"dataframe\">\n",
       "  <thead>\n",
       "    <tr style=\"text-align: right;\">\n",
       "      <th></th>\n",
       "      <th>Rank</th>\n",
       "      <th>Name</th>\n",
       "      <th>Industry</th>\n",
       "      <th>Revenue (USD millions)</th>\n",
       "      <th>Revenue growth</th>\n",
       "      <th>Employees</th>\n",
       "      <th>Headquarters</th>\n",
       "    </tr>\n",
       "  </thead>\n",
       "  <tbody>\n",
       "  </tbody>\n",
       "</table>\n",
       "</div>"
      ],
      "text/plain": [
       "Empty DataFrame\n",
       "Columns: [Rank, Name, Industry, Revenue (USD millions), Revenue growth, Employees, Headquarters]\n",
       "Index: []"
      ]
     },
     "execution_count": 6,
     "metadata": {},
     "output_type": "execute_result"
    }
   ],
   "source": [
    "# Create DataFrame with pandas\n",
    "df = pd.DataFrame(columns = table_titles)\n",
    "df"
   ]
  },
  {
   "cell_type": "code",
   "execution_count": 7,
   "id": "39660a50",
   "metadata": {},
   "outputs": [],
   "source": [
    "%%capture\n",
    "# Pull the table row data information \n",
    "data_information = table_html.find_all('tr')\n",
    "data_information"
   ]
  },
  {
   "cell_type": "code",
   "execution_count": 8,
   "id": "a5a88ccc",
   "metadata": {},
   "outputs": [],
   "source": [
    "# Loop through '<tr>-</tr>' to get all the data in between each row.\n",
    "# Start at possition 2 -> [1:] to skip the first '<tr>-</tr>' that points to the table header which we already have.\n",
    "for row in data_information[1:]:\n",
    "    row_data = row.find_all('td')  # Separate the '<td>-</td>' data values by iterating through them and then clean them up using a list comprehension.\n",
    "    individual_row_data = [data.text.strip() for data in row_data] \n",
    "# Use len(df) to check the number of rows (which will be 0). Then, use it as an index of 0 to populate the first row with .loc[], assigning the data from 'first_individual_row_data.' As it iterates next time, it will take index 1 to populate the second row.    l = len(df)\n",
    "    l = len(df)\n",
    "    df.loc[l] = individual_row_data \n",
    "    \n"
   ]
  },
  {
   "cell_type": "code",
   "execution_count": 9,
   "id": "a4415bd6",
   "metadata": {},
   "outputs": [
    {
     "data": {
      "text/html": [
       "<div>\n",
       "<style scoped>\n",
       "    .dataframe tbody tr th:only-of-type {\n",
       "        vertical-align: middle;\n",
       "    }\n",
       "\n",
       "    .dataframe tbody tr th {\n",
       "        vertical-align: top;\n",
       "    }\n",
       "\n",
       "    .dataframe thead th {\n",
       "        text-align: right;\n",
       "    }\n",
       "</style>\n",
       "<table border=\"1\" class=\"dataframe\">\n",
       "  <thead>\n",
       "    <tr style=\"text-align: right;\">\n",
       "      <th></th>\n",
       "      <th>Name</th>\n",
       "      <th>Industry</th>\n",
       "      <th>Revenue (USD millions)</th>\n",
       "      <th>Revenue growth</th>\n",
       "      <th>Employees</th>\n",
       "      <th>Headquarters</th>\n",
       "    </tr>\n",
       "    <tr>\n",
       "      <th>Rank</th>\n",
       "      <th></th>\n",
       "      <th></th>\n",
       "      <th></th>\n",
       "      <th></th>\n",
       "      <th></th>\n",
       "      <th></th>\n",
       "    </tr>\n",
       "  </thead>\n",
       "  <tbody>\n",
       "    <tr>\n",
       "      <th>1</th>\n",
       "      <td>Walmart</td>\n",
       "      <td>Retail</td>\n",
       "      <td>611,289</td>\n",
       "      <td>6.7%</td>\n",
       "      <td>2,100,000</td>\n",
       "      <td>Bentonville, Arkansas</td>\n",
       "    </tr>\n",
       "    <tr>\n",
       "      <th>2</th>\n",
       "      <td>Amazon</td>\n",
       "      <td>Retail and Cloud Computing</td>\n",
       "      <td>513,983</td>\n",
       "      <td>9.4%</td>\n",
       "      <td>1,540,000</td>\n",
       "      <td>Seattle, Washington</td>\n",
       "    </tr>\n",
       "    <tr>\n",
       "      <th>3</th>\n",
       "      <td>Exxon Mobil</td>\n",
       "      <td>Petroleum industry</td>\n",
       "      <td>413,680</td>\n",
       "      <td>44.8%</td>\n",
       "      <td>62,000</td>\n",
       "      <td>Spring, Texas</td>\n",
       "    </tr>\n",
       "    <tr>\n",
       "      <th>4</th>\n",
       "      <td>Apple</td>\n",
       "      <td>Electronics industry</td>\n",
       "      <td>394,328</td>\n",
       "      <td>7.8%</td>\n",
       "      <td>164,000</td>\n",
       "      <td>Cupertino, California</td>\n",
       "    </tr>\n",
       "    <tr>\n",
       "      <th>5</th>\n",
       "      <td>UnitedHealth Group</td>\n",
       "      <td>Healthcare</td>\n",
       "      <td>324,162</td>\n",
       "      <td>12.7%</td>\n",
       "      <td>400,000</td>\n",
       "      <td>Minnetonka, Minnesota</td>\n",
       "    </tr>\n",
       "    <tr>\n",
       "      <th>...</th>\n",
       "      <td>...</td>\n",
       "      <td>...</td>\n",
       "      <td>...</td>\n",
       "      <td>...</td>\n",
       "      <td>...</td>\n",
       "      <td>...</td>\n",
       "    </tr>\n",
       "    <tr>\n",
       "      <th>96</th>\n",
       "      <td>Best Buy</td>\n",
       "      <td>Retail</td>\n",
       "      <td>46,298</td>\n",
       "      <td>10.6%</td>\n",
       "      <td>71,100</td>\n",
       "      <td>Richfield, Minnesota</td>\n",
       "    </tr>\n",
       "    <tr>\n",
       "      <th>97</th>\n",
       "      <td>Bristol-Myers Squibb</td>\n",
       "      <td>Pharmaceutical industry</td>\n",
       "      <td>46,159</td>\n",
       "      <td>0.5%</td>\n",
       "      <td>34,300</td>\n",
       "      <td>New York City, New York</td>\n",
       "    </tr>\n",
       "    <tr>\n",
       "      <th>98</th>\n",
       "      <td>United Airlines</td>\n",
       "      <td>Airline</td>\n",
       "      <td>44,955</td>\n",
       "      <td>82.5%</td>\n",
       "      <td>92,795</td>\n",
       "      <td>Chicago, Illinois</td>\n",
       "    </tr>\n",
       "    <tr>\n",
       "      <th>99</th>\n",
       "      <td>Thermo Fisher Scientific</td>\n",
       "      <td>Laboratory instruments</td>\n",
       "      <td>44,915</td>\n",
       "      <td>14.5%</td>\n",
       "      <td>130,000</td>\n",
       "      <td>Waltham, Massachusetts</td>\n",
       "    </tr>\n",
       "    <tr>\n",
       "      <th>100</th>\n",
       "      <td>Qualcomm</td>\n",
       "      <td>Technology</td>\n",
       "      <td>44,200</td>\n",
       "      <td>31.7%</td>\n",
       "      <td>51,000</td>\n",
       "      <td>San Diego, California</td>\n",
       "    </tr>\n",
       "  </tbody>\n",
       "</table>\n",
       "<p>100 rows × 6 columns</p>\n",
       "</div>"
      ],
      "text/plain": [
       "                          Name                    Industry  \\\n",
       "Rank                                                         \n",
       "1                      Walmart                      Retail   \n",
       "2                       Amazon  Retail and Cloud Computing   \n",
       "3                  Exxon Mobil          Petroleum industry   \n",
       "4                        Apple        Electronics industry   \n",
       "5           UnitedHealth Group                  Healthcare   \n",
       "...                        ...                         ...   \n",
       "96                    Best Buy                      Retail   \n",
       "97        Bristol-Myers Squibb     Pharmaceutical industry   \n",
       "98             United Airlines                     Airline   \n",
       "99    Thermo Fisher Scientific      Laboratory instruments   \n",
       "100                   Qualcomm                  Technology   \n",
       "\n",
       "     Revenue (USD millions) Revenue growth  Employees             Headquarters  \n",
       "Rank                                                                            \n",
       "1                   611,289           6.7%  2,100,000    Bentonville, Arkansas  \n",
       "2                   513,983           9.4%  1,540,000      Seattle, Washington  \n",
       "3                   413,680          44.8%     62,000            Spring, Texas  \n",
       "4                   394,328           7.8%    164,000    Cupertino, California  \n",
       "5                   324,162          12.7%    400,000    Minnetonka, Minnesota  \n",
       "...                     ...            ...        ...                      ...  \n",
       "96                   46,298          10.6%     71,100     Richfield, Minnesota  \n",
       "97                   46,159           0.5%     34,300  New York City, New York  \n",
       "98                   44,955          82.5%     92,795        Chicago, Illinois  \n",
       "99                   44,915          14.5%    130,000   Waltham, Massachusetts  \n",
       "100                  44,200          31.7%     51,000    San Diego, California  \n",
       "\n",
       "[100 rows x 6 columns]"
      ]
     },
     "execution_count": 9,
     "metadata": {},
     "output_type": "execute_result"
    }
   ],
   "source": [
    "# Set new index to Rank \n",
    "df = df.set_index('Rank')\n",
    "df"
   ]
  },
  {
   "cell_type": "code",
   "execution_count": 10,
   "id": "acf61288",
   "metadata": {},
   "outputs": [],
   "source": [
    "#Export data to CSV file\n",
    "df.to_csv(r'C:\\Users\\Gerardo\\Downloads\\Top100Companies.csv')"
   ]
  }
 ],
 "metadata": {
  "kernelspec": {
   "display_name": "Python 3 (ipykernel)",
   "language": "python",
   "name": "python3"
  },
  "language_info": {
   "codemirror_mode": {
    "name": "ipython",
    "version": 3
   },
   "file_extension": ".py",
   "mimetype": "text/x-python",
   "name": "python",
   "nbconvert_exporter": "python",
   "pygments_lexer": "ipython3",
   "version": "3.10.9"
  }
 },
 "nbformat": 4,
 "nbformat_minor": 5
}
