{
 "cells": [
  {
   "cell_type": "markdown",
   "id": "f00a0faf",
   "metadata": {},
   "source": [
    "# BMI CALCULATOR\n",
    "\n"
   ]
  },
  {
   "cell_type": "code",
   "execution_count": 2,
   "id": "b349655d",
   "metadata": {},
   "outputs": [],
   "source": [
    "#Body mass index calculator, is a measurement of body fat based on height and weight\n",
    "#BMI = (weight in pounds * 703) / (height in inches * height in inches)"
   ]
  },
  {
   "cell_type": "code",
   "execution_count": 28,
   "id": "81669038",
   "metadata": {},
   "outputs": [
    {
     "name": "stdout",
     "output_type": "stream",
     "text": [
      "Yor BMI is: 22.1487\n",
      "You are Normal Weight.\n"
     ]
    }
   ],
   "source": [
    "def BMI_calculator(weight,height):\n",
    "    BMI = ((weight * 703) / (height * height))\n",
    "    print(f'Yor BMI is: {round(BMI,4)}')\n",
    "    if BMI > 0:\n",
    "        if BMI <= 18.5:\n",
    "            print('You are Underwight.')\n",
    "        elif BMI > 18.5 and BMI <= 24.9:\n",
    "            print('You are Normal Weight.')\n",
    "        elif BMI >24.9 and BMI <=29.9:\n",
    "            print('You are Overweight.')\n",
    "        elif BMI >29.9:\n",
    "            print('You are Obese')\n",
    "        elif BMI >35:\n",
    "            print('You are Severely Obese.')\n",
    "        elif BMI > 39.9:\n",
    "            print('You are Morbidly Obese')\n",
    "    else:\n",
    "        print('Enter valid input.')\n",
    "\n",
    "BMI_calculator(150,69)\n"
   ]
  },
  {
   "cell_type": "code",
   "execution_count": 12,
   "id": "fb136d7f",
   "metadata": {},
   "outputs": [
    {
     "name": "stdout",
     "output_type": "stream",
     "text": [
      "Enter your weight in pounds: 10\n",
      "Enter your height in inches: 10\n",
      "70.3\n"
     ]
    }
   ],
   "source": [
    "weight = input('Enter your weight in pounds: ')\n",
    "weight = int(weight)\n",
    "height = input('Enter your height in inches: ')\n",
    "height = int(height)\n",
    "BMI = ((weight * 703)/(height*height))\n",
    "print(round(BMI,4))"
   ]
  },
  {
   "cell_type": "code",
   "execution_count": 13,
   "id": "4f358431",
   "metadata": {},
   "outputs": [],
   "source": [
    "#Add more information\n",
    "# Under 18.5: Underweight*Minimal.\n",
    "# 18.5 - 24.9: Normal Weight-*Minimal.\n",
    "# 25 - 29.9: Overweight-*Increased\n",
    "# 30 - 34.9: Obese--*High\n",
    "# 35 - 39.9: Severely Obese-*Very High\n",
    "# 40 and over: Morbidly Obese-*Extremely High"
   ]
  },
  {
   "cell_type": "code",
   "execution_count": 14,
   "id": "c0a7525f",
   "metadata": {},
   "outputs": [
    {
     "name": "stdout",
     "output_type": "stream",
     "text": [
      "You are Obese\n"
     ]
    }
   ],
   "source": [
    "if BMI > 0:\n",
    "    if BMI <= 18.5:\n",
    "        print('You are Underwight.')\n",
    "    elif BMI > 18.5 and BMI <= 24.9:\n",
    "        print('You are Normal Weight.')\n",
    "    elif BMI >24.9 and BMI <=29.9:\n",
    "        print('You are Overweight.')\n",
    "    elif BMI >29.9:\n",
    "        print('You are Obese')\n",
    "    elif BMI >35:\n",
    "        print('You are Severely Obese.')\n",
    "    elif BMI > 39.9:\n",
    "        print('You are Morbidly Obese')\n",
    "else:\n",
    "    print('Enter valid input.')"
   ]
  },
  {
   "cell_type": "code",
   "execution_count": 16,
   "id": "d4bf8388",
   "metadata": {},
   "outputs": [
    {
     "name": "stdout",
     "output_type": "stream",
     "text": [
      "Enter your weight in pounds: 10\n",
      "Enter your height in inches: 10\n",
      "Your BMI is: 70.3\n",
      "You are Obese\n"
     ]
    }
   ],
   "source": [
    "weight = input('Enter your weight in pounds: ')\n",
    "weight = int(weight)\n",
    "height = input('Enter your height in inches: ')\n",
    "height = int(height)\n",
    "BMI = ((weight * 703)/(height*height))\n",
    "print(f'Your BMI is: {round(BMI,4)}')\n",
    "if BMI > 0:\n",
    "    if BMI <= 18.5:\n",
    "        print('You are Underwight.')\n",
    "    elif BMI > 18.5 and BMI <= 24.9:\n",
    "        print('You are Normal Weight.')\n",
    "    elif BMI >24.9 and BMI <=29.9:\n",
    "        print('You are Overweight.')\n",
    "    elif BMI >29.9:\n",
    "        print('You are Obese')\n",
    "    elif BMI >35:\n",
    "        print('You are Severely Obese.')\n",
    "    elif BMI > 39.9:\n",
    "        print('You are Morbidly Obese')\n",
    "else:\n",
    "    print('Enter valid input.')\n",
    "\n",
    "\n"
   ]
  },
  {
   "cell_type": "code",
   "execution_count": 17,
   "id": "6ddddeb3",
   "metadata": {},
   "outputs": [],
   "source": [
    "#Add centimeters and kilograms input\n",
    "\n"
   ]
  },
  {
   "cell_type": "code",
   "execution_count": 56,
   "id": "935cfa36",
   "metadata": {},
   "outputs": [
    {
     "name": "stdout",
     "output_type": "stream",
     "text": [
      "Your height is 79.0 inches.\n"
     ]
    }
   ],
   "source": [
    "def centimeters_inches(cm):\n",
    "    inches = cm*.393701\n",
    "    return print(f'Your height is {round(inches,0)} inches.')\n",
    "\n",
    "centimeters_inches(200)"
   ]
  },
  {
   "cell_type": "code",
   "execution_count": 57,
   "id": "32aa9520",
   "metadata": {
    "scrolled": true
   },
   "outputs": [
    {
     "name": "stdout",
     "output_type": "stream",
     "text": [
      "Your weight is 176.0 pounds.\n"
     ]
    }
   ],
   "source": [
    "def kilograms_pounds(kg):\n",
    "    pounds = kg*2.20462\n",
    "    return print(f'Your weight is {round(pounds,0)} pounds.')\n",
    "    \n",
    "    \n",
    "kilograms_pounds(80)"
   ]
  },
  {
   "cell_type": "code",
   "execution_count": 65,
   "id": "4a5be9d6",
   "metadata": {},
   "outputs": [],
   "source": [
    "def BMI_calculator(weight,height):\n",
    "    BMI = ((weight * 703) / (height * height))\n",
    "    print(f'Yor BMI is: {round(BMI,4)}')\n",
    "    if BMI > 0:\n",
    "        if BMI <= 18.5:\n",
    "            return print('You are Underweight.')\n",
    "        elif BMI > 18.5 and BMI <= 24.9:\n",
    "            return print('You are Normal Weight.')\n",
    "        elif BMI >24.9 and BMI <=29.9:\n",
    "            return print('You are Overweight.')\n",
    "        elif BMI >29.9:\n",
    "            return print('You are Obese')\n",
    "        elif BMI >35:\n",
    "            return print('You are Severely Obese.')\n",
    "        elif BMI > 39.9:\n",
    "            return print('You are Morbidly Obese')\n",
    "    else:\n",
    "        return print('Enter valid input.')\n",
    "    return BMI \n"
   ]
  },
  {
   "cell_type": "code",
   "execution_count": 66,
   "id": "da4be745",
   "metadata": {
    "scrolled": true
   },
   "outputs": [
    {
     "name": "stdout",
     "output_type": "stream",
     "text": [
      "Welcome to the BMI calculator. \n",
      "1) Use the BMI_calculator to know your BMI and physical status with pounds and inches.\n",
      "2) You can convert centimeters to inches using the centimeters_inches calculator.\n",
      "3) You can convert kilograms to pounds using the kilograms_punds calculator.\n",
      "Which option do you want to use: 1\n",
      "Pounds: 500\n",
      "Inches: 300\n",
      "Yor BMI is: 3.9056\n",
      "You are Underweight.\n"
     ]
    }
   ],
   "source": [
    "print(\"\"\"Welcome to the BMI calculator. \n",
    "1) Use the BMI_calculator to know your BMI and physical status with pounds and inches.\n",
    "2) You can convert centimeters to inches using the centimeters_inches calculator.\n",
    "3) You can convert kilograms to pounds using the kilograms_punds calculator.\"\"\" )\n",
    "option = input('Which option do you want to use: ')\n",
    "option = int(option)\n",
    "if option == 1:\n",
    "    BMI_calculator(int(input('Pounds: ')), (int(input('Inches: '))))\n",
    "elif option == 2: \n",
    "    centimeters_inches(int(input('Centimeters: '))) \n",
    "    print('Write down your height in inches to reuse the BMI calculator')\n",
    "elif option == 3:\n",
    "    kilograms_pounds(int(input('Kilograms: '))) \n",
    "    print('Write down your weight in inches to reuse the BMI calculator')\n",
    "else:\n",
    "    print('Enter a valid input: ')\n",
    "\n",
    "    "
   ]
  },
  {
   "cell_type": "code",
   "execution_count": null,
   "id": "ac93fdeb",
   "metadata": {},
   "outputs": [],
   "source": []
  },
  {
   "cell_type": "code",
   "execution_count": null,
   "id": "fbaec668",
   "metadata": {},
   "outputs": [],
   "source": []
  }
 ],
 "metadata": {
  "kernelspec": {
   "display_name": "Python 3 (ipykernel)",
   "language": "python",
   "name": "python3"
  },
  "language_info": {
   "codemirror_mode": {
    "name": "ipython",
    "version": 3
   },
   "file_extension": ".py",
   "mimetype": "text/x-python",
   "name": "python",
   "nbconvert_exporter": "python",
   "pygments_lexer": "ipython3",
   "version": "3.10.9"
  }
 },
 "nbformat": 4,
 "nbformat_minor": 5
}
